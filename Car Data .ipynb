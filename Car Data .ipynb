{
 "cells": [
  {
   "cell_type": "code",
   "execution_count": 1,
   "id": "2e11215d",
   "metadata": {},
   "outputs": [],
   "source": [
    "import pandas as pd\n",
    "import numpy as np\n",
    "import selenium\n",
    "from bs4 import BeautifulSoup\n",
    "\n",
    "#Importing web driver from selenium\n",
    "from selenium import webdriver\n",
    "\n",
    "# Importing required Exceptions which needs to handled\n",
    "from selenium.common.exceptions import StaleElementReferenceException, NoSuchElementException\n",
    "\n",
    "#Importing Request\n",
    "import requests\n",
    "\n",
    "#Importing regex\n",
    "import re\n",
    "\n",
    "from selenium.webdriver.chrome.service import Service\n",
    "from webdriver_manager.chrome import ChromeDriverManager\n",
    "\n",
    "from selenium.webdriver.common.keys import Keys\n",
    "from selenium.webdriver.common.by import By"
   ]
  },
  {
   "cell_type": "code",
   "execution_count": 2,
   "id": "3b1e2e55",
   "metadata": {},
   "outputs": [],
   "source": [
    "#Activating the chrome browser\n",
    "\n",
    "driver = webdriver.Chrome(service=Service(ChromeDriverManager().install()))\n",
    "driver.get(\"https://www.cardekho.com/\")\n",
    "driver.maximize_window()"
   ]
  },
  {
   "cell_type": "code",
   "execution_count": 4,
   "id": "9fc072ea",
   "metadata": {},
   "outputs": [],
   "source": [
    "used_car = driver.find_element(By.XPATH,'//*[@id=\"rf01\"]/header/div[2]/div/div/nav/ul/li[2]/span')\n",
    "used_car.click()"
   ]
  },
  {
   "cell_type": "code",
   "execution_count": 6,
   "id": "1ffad415",
   "metadata": {},
   "outputs": [],
   "source": [
    "car_in_city = driver.find_element(By.XPATH,'//*[@id=\"srpVdp-cityPopupHeader\"]/div')\n",
    "car_in_city.click()"
   ]
  },
  {
   "cell_type": "code",
   "execution_count": 7,
   "id": "0ee89ce9",
   "metadata": {},
   "outputs": [],
   "source": [
    "ahmedabad = driver.find_element(By.XPATH,'//*[@id=\"cityPopUp\"]/div/div[3]/section/div/ul/li[1]/a')\n",
    "ahmedabad.click()"
   ]
  },
  {
   "cell_type": "code",
   "execution_count": 8,
   "id": "2efa4d59",
   "metadata": {},
   "outputs": [],
   "source": [
    "for i in range(20):\n",
    "    \n",
    "    driver.execute_script(\"window.scrollTo(0, document.body.scrollHeight*0.90);\")\n",
    "\n",
    "\n",
    "    driver.execute_script(\"window.scrollTo(0, document.body.scrollHeight*0.97);\")\n",
    " \n",
    "   \n",
    "    i=i+1"
   ]
  },
  {
   "cell_type": "code",
   "execution_count": 11,
   "id": "e2aeea56",
   "metadata": {},
   "outputs": [],
   "source": [
    "# scrape all Cars urls\n",
    "Car_urls_amd = []\n",
    "url_amd=driver.find_elements(By.XPATH,'//*[@id=\"carList-0\"]')\n",
    "for i in url_amd:\n",
    "        Car_urls_amd.append(i.get_attribute(\"href\"))"
   ]
  },
  {
   "cell_type": "code",
   "execution_count": 12,
   "id": "4e365cbf",
   "metadata": {},
   "outputs": [
    {
     "data": {
      "text/plain": [
       "70"
      ]
     },
     "execution_count": 12,
     "metadata": {},
     "output_type": "execute_result"
    }
   ],
   "source": [
    "Links_amd=Car_urls_amd\n",
    "len(Car_urls_amd)"
   ]
  },
  {
   "cell_type": "code",
   "execution_count": 13,
   "id": "44ca5b58",
   "metadata": {},
   "outputs": [],
   "source": [
    "car_in_city = driver.find_element(By.XPATH,'//*[@id=\"srpVdp-cityPopupHeader\"]/div')\n",
    "car_in_city.click()"
   ]
  },
  {
   "cell_type": "code",
   "execution_count": 14,
   "id": "d236b782",
   "metadata": {},
   "outputs": [],
   "source": [
    "banglore = driver.find_element(By.XPATH,'//*[@id=\"cityPopUp\"]/div/div[3]/section/div/ul/li[2]')\n",
    "banglore.click()"
   ]
  },
  {
   "cell_type": "code",
   "execution_count": 15,
   "id": "7c9a9656",
   "metadata": {},
   "outputs": [],
   "source": [
    "for i in range(20):\n",
    "    \n",
    "    driver.execute_script(\"window.scrollTo(0, document.body.scrollHeight*0.90);\")\n",
    "\n",
    "\n",
    "    driver.execute_script(\"window.scrollTo(0, document.body.scrollHeight*0.99);\")\n",
    " \n",
    "   \n",
    "    i=i+1"
   ]
  },
  {
   "cell_type": "code",
   "execution_count": 16,
   "id": "28d16295",
   "metadata": {},
   "outputs": [],
   "source": [
    "# scrape all Cars urls\n",
    "Car_urls_bng = []\n",
    "url_bng=driver.find_elements(By.XPATH,'//*[@id=\"carList-0\"]')\n",
    "for i in url_bng:\n",
    "        Car_urls_bng.append(i.get_attribute(\"href\"))"
   ]
  },
  {
   "cell_type": "code",
   "execution_count": 17,
   "id": "5e458aa1",
   "metadata": {},
   "outputs": [
    {
     "data": {
      "text/plain": [
       "73"
      ]
     },
     "execution_count": 17,
     "metadata": {},
     "output_type": "execute_result"
    }
   ],
   "source": [
    "Links_bng=Car_urls_bng\n",
    "len(Car_urls_bng)"
   ]
  },
  {
   "cell_type": "code",
   "execution_count": 18,
   "id": "e7eb19a8",
   "metadata": {},
   "outputs": [],
   "source": [
    "car_in_city = driver.find_element(By.XPATH,'//*[@id=\"srpVdp-cityPopupHeader\"]/div')\n",
    "car_in_city.click()"
   ]
  },
  {
   "cell_type": "code",
   "execution_count": 19,
   "id": "cd1331ea",
   "metadata": {},
   "outputs": [],
   "source": [
    "mumbai = driver.find_element(By.XPATH,'//*[@id=\"cityPopUp\"]/div/div[3]/section/div/ul/li[3]')\n",
    "mumbai.click()"
   ]
  },
  {
   "cell_type": "code",
   "execution_count": 20,
   "id": "19e0422d",
   "metadata": {},
   "outputs": [],
   "source": [
    "for i in range(20):\n",
    "    \n",
    "    driver.execute_script(\"window.scrollTo(0, document.body.scrollHeight*0.90);\")\n",
    "\n",
    "\n",
    "    driver.execute_script(\"window.scrollTo(0, document.body.scrollHeight*0.99);\")\n",
    " \n",
    "   \n",
    "    i=i+1"
   ]
  },
  {
   "cell_type": "code",
   "execution_count": 21,
   "id": "28df4754",
   "metadata": {},
   "outputs": [],
   "source": [
    "# scrape all Cars urls\n",
    "Car_urls_mub = []\n",
    "url_mub=driver.find_elements(By.XPATH,'//*[@id=\"carList-0\"]')\n",
    "for i in url_mub:\n",
    "        Car_urls_mub.append(i.get_attribute(\"href\"))"
   ]
  },
  {
   "cell_type": "code",
   "execution_count": 22,
   "id": "87ca2494",
   "metadata": {},
   "outputs": [
    {
     "data": {
      "text/plain": [
       "94"
      ]
     },
     "execution_count": 22,
     "metadata": {},
     "output_type": "execute_result"
    }
   ],
   "source": [
    "Links_mub=Car_urls_mub\n",
    "len(Car_urls_mub)"
   ]
  },
  {
   "cell_type": "code",
   "execution_count": 23,
   "id": "3eba2d3a",
   "metadata": {},
   "outputs": [],
   "source": [
    "car_in_city = driver.find_element(By.XPATH,'//*[@id=\"srpVdp-cityPopupHeader\"]/div')\n",
    "car_in_city.click()"
   ]
  },
  {
   "cell_type": "code",
   "execution_count": 24,
   "id": "8811ac2c",
   "metadata": {},
   "outputs": [],
   "source": [
    "jaipur = driver.find_element(By.XPATH,'//*[@id=\"cityPopUp\"]/div/div[3]/section/div/ul/li[4]')\n",
    "jaipur.click()"
   ]
  },
  {
   "cell_type": "code",
   "execution_count": 25,
   "id": "152a9396",
   "metadata": {},
   "outputs": [],
   "source": [
    "for i in range(20):\n",
    "    \n",
    "    driver.execute_script(\"window.scrollTo(0, document.body.scrollHeight*0.92);\")\n",
    "\n",
    "\n",
    "    driver.execute_script(\"window.scrollTo(0, document.body.scrollHeight*0.99);\")\n",
    " \n",
    "   \n",
    "    i=i+1"
   ]
  },
  {
   "cell_type": "code",
   "execution_count": 26,
   "id": "fb0d6913",
   "metadata": {},
   "outputs": [],
   "source": [
    "# scrape all Cars urls\n",
    "Car_urls_jaipur = []\n",
    "url_jaipur = driver.find_elements(By.XPATH,'//*[@id=\"carList-0\"]')\n",
    "for i in url_jaipur:\n",
    "        Car_urls_jaipur.append(i.get_attribute(\"href\"))"
   ]
  },
  {
   "cell_type": "code",
   "execution_count": 27,
   "id": "d0871c21",
   "metadata": {},
   "outputs": [
    {
     "data": {
      "text/plain": [
       "43"
      ]
     },
     "execution_count": 27,
     "metadata": {},
     "output_type": "execute_result"
    }
   ],
   "source": [
    "Links_jaipur=Car_urls_jaipur\n",
    "len(Car_urls_jaipur)"
   ]
  },
  {
   "cell_type": "code",
   "execution_count": null,
   "id": "f011f52e",
   "metadata": {},
   "outputs": [],
   "source": []
  },
  {
   "cell_type": "code",
   "execution_count": 37,
   "id": "d8487986",
   "metadata": {},
   "outputs": [],
   "source": [
    "# Make Empty List of the required data\n",
    "Brand= []\n",
    "Model= []\n",
    "Make_Year= []\n",
    "Fuel=[]\n",
    "KMs_Driven=[]\n",
    "Engine_Displacement=[]\n",
    "No_Of_Owner=[]\n",
    "Transmission=[]\n",
    "Mileage=[]\n",
    "Max_Power=[]\n",
    "Torque=[]\n",
    "\n",
    "Seats=[]\n",
    "Color=[]\n",
    "Gear_Box=[]\n",
    "Drive_Type=[]\n",
    "Steering_Type=[]\n",
    "Front_Brake_Type=[]\n",
    "Rear_Brake_Type=[]\n",
    "\n",
    "Acceleration=[]\n",
    "Engine_Type=[] \n",
    "Price= []"
   ]
  },
  {
   "cell_type": "code",
   "execution_count": 45,
   "id": "d383482b",
   "metadata": {},
   "outputs": [
    {
     "ename": "InvalidArgumentException",
     "evalue": "Message: invalid argument: 'url' must be a string\n  (Session info: chrome=107.0.5304.62)\nStacktrace:\nBacktrace:\n\tOrdinal0 [0x0103ACD3+2075859]\n\tOrdinal0 [0x00FCEE61+1633889]\n\tOrdinal0 [0x00ECB7BD+571325]\n\tOrdinal0 [0x00F2BD46+965958]\n\tOrdinal0 [0x00F1731C+881436]\n\tOrdinal0 [0x00F2B56A+963946]\n\tOrdinal0 [0x00F17136+880950]\n\tOrdinal0 [0x00EEFEFD+720637]\n\tOrdinal0 [0x00EF0F3F+724799]\n\tGetHandleVerifier [0x012EEED2+2769538]\n\tGetHandleVerifier [0x012E0D95+2711877]\n\tGetHandleVerifier [0x010CA03A+521194]\n\tGetHandleVerifier [0x010C8DA0+516432]\n\tOrdinal0 [0x00FD682C+1665068]\n\tOrdinal0 [0x00FDB128+1683752]\n\tOrdinal0 [0x00FDB215+1683989]\n\tOrdinal0 [0x00FE6484+1729668]\n\tBaseThreadInitThunk [0x75A97BA9+25]\n\tRtlInitializeExceptionChain [0x7705BB3B+107]\n\tRtlClearBits [0x7705BABF+191]\n",
     "output_type": "error",
     "traceback": [
      "\u001b[1;31m---------------------------------------------------------------------------\u001b[0m",
      "\u001b[1;31mInvalidArgumentException\u001b[0m                  Traceback (most recent call last)",
      "\u001b[1;32m~\\AppData\\Local\\Temp/ipykernel_15604/2718235717.py\u001b[0m in \u001b[0;36m<module>\u001b[1;34m\u001b[0m\n\u001b[0;32m      1\u001b[0m \u001b[1;32mfor\u001b[0m \u001b[0murl\u001b[0m \u001b[1;32min\u001b[0m \u001b[0mCar_urls_amd\u001b[0m\u001b[1;33m:\u001b[0m\u001b[1;33m\u001b[0m\u001b[1;33m\u001b[0m\u001b[0m\n\u001b[1;32m----> 2\u001b[1;33m     \u001b[0mdriver\u001b[0m\u001b[1;33m.\u001b[0m\u001b[0mget\u001b[0m\u001b[1;33m(\u001b[0m\u001b[0murl\u001b[0m\u001b[1;33m)\u001b[0m\u001b[1;33m\u001b[0m\u001b[1;33m\u001b[0m\u001b[0m\n\u001b[0m\u001b[0;32m      3\u001b[0m     \u001b[0mprint\u001b[0m\u001b[1;33m(\u001b[0m\u001b[1;34m'Scraping URL'\u001b[0m\u001b[1;33m,\u001b[0m\u001b[0murl\u001b[0m \u001b[1;33m)\u001b[0m\u001b[1;33m\u001b[0m\u001b[1;33m\u001b[0m\u001b[0m\n\u001b[0;32m      4\u001b[0m \u001b[1;33m\u001b[0m\u001b[0m\n\u001b[0;32m      5\u001b[0m \u001b[1;33m\u001b[0m\u001b[0m\n",
      "\u001b[1;32m~\\anaconda3\\lib\\site-packages\\selenium\\webdriver\\remote\\webdriver.py\u001b[0m in \u001b[0;36mget\u001b[1;34m(self, url)\u001b[0m\n\u001b[0;32m    439\u001b[0m         \u001b[0mLoads\u001b[0m \u001b[0ma\u001b[0m \u001b[0mweb\u001b[0m \u001b[0mpage\u001b[0m \u001b[1;32min\u001b[0m \u001b[0mthe\u001b[0m \u001b[0mcurrent\u001b[0m \u001b[0mbrowser\u001b[0m \u001b[0msession\u001b[0m\u001b[1;33m.\u001b[0m\u001b[1;33m\u001b[0m\u001b[1;33m\u001b[0m\u001b[0m\n\u001b[0;32m    440\u001b[0m         \"\"\"\n\u001b[1;32m--> 441\u001b[1;33m         \u001b[0mself\u001b[0m\u001b[1;33m.\u001b[0m\u001b[0mexecute\u001b[0m\u001b[1;33m(\u001b[0m\u001b[0mCommand\u001b[0m\u001b[1;33m.\u001b[0m\u001b[0mGET\u001b[0m\u001b[1;33m,\u001b[0m \u001b[1;33m{\u001b[0m\u001b[1;34m'url'\u001b[0m\u001b[1;33m:\u001b[0m \u001b[0murl\u001b[0m\u001b[1;33m}\u001b[0m\u001b[1;33m)\u001b[0m\u001b[1;33m\u001b[0m\u001b[1;33m\u001b[0m\u001b[0m\n\u001b[0m\u001b[0;32m    442\u001b[0m \u001b[1;33m\u001b[0m\u001b[0m\n\u001b[0;32m    443\u001b[0m     \u001b[1;33m@\u001b[0m\u001b[0mproperty\u001b[0m\u001b[1;33m\u001b[0m\u001b[1;33m\u001b[0m\u001b[0m\n",
      "\u001b[1;32m~\\anaconda3\\lib\\site-packages\\selenium\\webdriver\\remote\\webdriver.py\u001b[0m in \u001b[0;36mexecute\u001b[1;34m(self, driver_command, params)\u001b[0m\n\u001b[0;32m    427\u001b[0m         \u001b[0mresponse\u001b[0m \u001b[1;33m=\u001b[0m \u001b[0mself\u001b[0m\u001b[1;33m.\u001b[0m\u001b[0mcommand_executor\u001b[0m\u001b[1;33m.\u001b[0m\u001b[0mexecute\u001b[0m\u001b[1;33m(\u001b[0m\u001b[0mdriver_command\u001b[0m\u001b[1;33m,\u001b[0m \u001b[0mparams\u001b[0m\u001b[1;33m)\u001b[0m\u001b[1;33m\u001b[0m\u001b[1;33m\u001b[0m\u001b[0m\n\u001b[0;32m    428\u001b[0m         \u001b[1;32mif\u001b[0m \u001b[0mresponse\u001b[0m\u001b[1;33m:\u001b[0m\u001b[1;33m\u001b[0m\u001b[1;33m\u001b[0m\u001b[0m\n\u001b[1;32m--> 429\u001b[1;33m             \u001b[0mself\u001b[0m\u001b[1;33m.\u001b[0m\u001b[0merror_handler\u001b[0m\u001b[1;33m.\u001b[0m\u001b[0mcheck_response\u001b[0m\u001b[1;33m(\u001b[0m\u001b[0mresponse\u001b[0m\u001b[1;33m)\u001b[0m\u001b[1;33m\u001b[0m\u001b[1;33m\u001b[0m\u001b[0m\n\u001b[0m\u001b[0;32m    430\u001b[0m             response['value'] = self._unwrap_value(\n\u001b[0;32m    431\u001b[0m                 response.get('value', None))\n",
      "\u001b[1;32m~\\anaconda3\\lib\\site-packages\\selenium\\webdriver\\remote\\errorhandler.py\u001b[0m in \u001b[0;36mcheck_response\u001b[1;34m(self, response)\u001b[0m\n\u001b[0;32m    241\u001b[0m                 \u001b[0malert_text\u001b[0m \u001b[1;33m=\u001b[0m \u001b[0mvalue\u001b[0m\u001b[1;33m[\u001b[0m\u001b[1;34m'alert'\u001b[0m\u001b[1;33m]\u001b[0m\u001b[1;33m.\u001b[0m\u001b[0mget\u001b[0m\u001b[1;33m(\u001b[0m\u001b[1;34m'text'\u001b[0m\u001b[1;33m)\u001b[0m\u001b[1;33m\u001b[0m\u001b[1;33m\u001b[0m\u001b[0m\n\u001b[0;32m    242\u001b[0m             \u001b[1;32mraise\u001b[0m \u001b[0mexception_class\u001b[0m\u001b[1;33m(\u001b[0m\u001b[0mmessage\u001b[0m\u001b[1;33m,\u001b[0m \u001b[0mscreen\u001b[0m\u001b[1;33m,\u001b[0m \u001b[0mstacktrace\u001b[0m\u001b[1;33m,\u001b[0m \u001b[0malert_text\u001b[0m\u001b[1;33m)\u001b[0m  \u001b[1;31m# type: ignore[call-arg]  # mypy is not smart enough here\u001b[0m\u001b[1;33m\u001b[0m\u001b[1;33m\u001b[0m\u001b[0m\n\u001b[1;32m--> 243\u001b[1;33m         \u001b[1;32mraise\u001b[0m \u001b[0mexception_class\u001b[0m\u001b[1;33m(\u001b[0m\u001b[0mmessage\u001b[0m\u001b[1;33m,\u001b[0m \u001b[0mscreen\u001b[0m\u001b[1;33m,\u001b[0m \u001b[0mstacktrace\u001b[0m\u001b[1;33m)\u001b[0m\u001b[1;33m\u001b[0m\u001b[1;33m\u001b[0m\u001b[0m\n\u001b[0m",
      "\u001b[1;31mInvalidArgumentException\u001b[0m: Message: invalid argument: 'url' must be a string\n  (Session info: chrome=107.0.5304.62)\nStacktrace:\nBacktrace:\n\tOrdinal0 [0x0103ACD3+2075859]\n\tOrdinal0 [0x00FCEE61+1633889]\n\tOrdinal0 [0x00ECB7BD+571325]\n\tOrdinal0 [0x00F2BD46+965958]\n\tOrdinal0 [0x00F1731C+881436]\n\tOrdinal0 [0x00F2B56A+963946]\n\tOrdinal0 [0x00F17136+880950]\n\tOrdinal0 [0x00EEFEFD+720637]\n\tOrdinal0 [0x00EF0F3F+724799]\n\tGetHandleVerifier [0x012EEED2+2769538]\n\tGetHandleVerifier [0x012E0D95+2711877]\n\tGetHandleVerifier [0x010CA03A+521194]\n\tGetHandleVerifier [0x010C8DA0+516432]\n\tOrdinal0 [0x00FD682C+1665068]\n\tOrdinal0 [0x00FDB128+1683752]\n\tOrdinal0 [0x00FDB215+1683989]\n\tOrdinal0 [0x00FE6484+1729668]\n\tBaseThreadInitThunk [0x75A97BA9+25]\n\tRtlInitializeExceptionChain [0x7705BB3B+107]\n\tRtlClearBits [0x7705BABF+191]\n"
     ]
    }
   ],
   "source": [
    "for url in Car_urls_amd:\n",
    "    driver.get(url)\n",
    "    print('Scraping URL',url )\n",
    "\n",
    "\n",
    "    \n",
    "    \n",
    "    # Extracting Price \n",
    "    try:\n",
    "        price = driver.find_element(By.XPATH,'//div[@class=\"priceSection\"]/span[2]')      \n",
    "        Price.append(price.text)\n",
    "    except:\n",
    "        price1= driver.find_element(By.XPATH,\"//span[@class='amount']\")    \n",
    "        Price.append(price1.text)\n",
    "\n",
    "    \n",
    "    \n",
    "    # Extracting Brand from xpath\n",
    "    try:\n",
    "        brand = driver.find_element(By.XPATH,'//div[@class=\"gsc_col-xs-12\"]/h1')      \n",
    "        Brand.append(brand.text)\n",
    "    except:\n",
    "        brand1= driver.find_element(By.XPATH,\"//div[@class='vdp-head']/h1[2]\")    \n",
    "        Brand.append(brand1.text)\n",
    "\n",
    "    \n",
    "    \n",
    "    # Extracting make year\n",
    "    try:\n",
    "        year = driver.find_element(By.XPATH,'//div[@class=\"iconDetail\" or @class=\"fontweight500 value\"])[1]')      \n",
    "        Make_Year.append(year.text)\n",
    "    except NoSuchElementException:\n",
    "        Make_Year.append('-')\n",
    "\n",
    "   \n",
    "    \n",
    "   # Extracting Fuel Type \n",
    "    try:\n",
    "        fuel = driver.find_element(By.XPATH,'//div[@class=\"fontweight500 value\"])[3]')      \n",
    "        Fuel.append(fuel.text)\n",
    "    except:\n",
    "        fuel1= driver.find_element(By.XPATH,'//div[@class=\"iconDetail\"])[5]')    \n",
    "        Fuel.append(fuel1.text)\n",
    "\n",
    "    \n",
    "    \n",
    "    # Extracting KM Driven  \n",
    "    try:\n",
    "        km_driven = driver.find_element(By.XPATH,'//div[@class=\"fontweight500 value\"])[4]')      \n",
    "        KMs_Driven.append(km_driven.text)\n",
    "    except:\n",
    "        km_driven1= driver.find_element(By.XPATH,'//div[@class=\"iconDetail\"])[3]')    \n",
    "        KMs_Driven.append(km_driven1.text)\n",
    "\n",
    "    \n",
    "    \n",
    "    # Extracting Engine_Displacement  \n",
    "    try:\n",
    "        engine_displacement = driver.find_element(By.XPATH,'//div[@class=\"fontweight500 value\"])[5]')      \n",
    "        Engine_Displacement.append(engine_displacement.text)\n",
    "    except:\n",
    "        engine_displacement1= driver.find_element(By.XPATH,'//div[@class=\"largeSpec\"])[2]')    \n",
    "        Engine_Displacement.append(engine_displacement1.text)\n",
    "\n",
    "    \n",
    "    \n",
    "    # Extracting No_Of_Owner\n",
    "    try:\n",
    "        no_Of_owner = driver.find_element(By.XPATH,'//div[@class=\"fontweight500 value\"])[6]')      \n",
    "        No_Of_Owner.append(no_Of_owner.text)\n",
    "    except:\n",
    "        no_Of_owner1= driver.find_element(By.XPATH,'//div[@class=\"iconDetail\"])[4]')    \n",
    "        No_Of_Owner.append(no_Of_owner1.text)\n",
    "\n",
    "    \n",
    "    \n",
    "    # Extracting Transmission\n",
    "    try:\n",
    "        transmission = driver.find_element(By.XPATH,'//div[@class=\"fontweight500 value\"])[8]')      \n",
    "        Transmission.append(transmission.text)\n",
    "    except:\n",
    "        transmission1= driver.find_element(By.XPATH,'//div[@class=\"iconDetail\"])[6]')    \n",
    "        Transmission.append(transmission1.text)\n",
    "\n",
    "    \n",
    "    \n",
    "    # Open full specification \n",
    "    try:\n",
    "        driver.execute_script(\"window.scrollTo(0, document.body.scrollHeight*0.35);\")\n",
    "        time.sleep(1)\n",
    "        Spec = driver.find_element(By.XPATH,\"//div[text()='View All Specifications']\")      \n",
    "        Spec.click()\n",
    "    except:\n",
    "        full_spec=driver.find_element(By.XPATH,'//div[@class=\"brdrBtm\"]/a)[2]')\n",
    "        full_spec.click()\n",
    "\n",
    "    \n",
    "    \n",
    "        # Extracting Mileage\n",
    "    try:\n",
    "        mileage = driver.find_element(By.XPATH,'//div[@class=\"fontweight500 value\"])[10]')      \n",
    "        Mileage.append(mileage.text)\n",
    "    except:\n",
    "        mileage1= driver.find_element(By.XPATH,'//div[@class=\"largeSpec\"])[1]')    \n",
    "        Mileage.append(mileage1.text)\n",
    "\n",
    "    \n",
    "    \n",
    "    # Extracting Max_Power\n",
    "    try:\n",
    "        max_power = driver.find_element(By.XPATH,'//div[@class=\"fontweight500 value\"])[12]')      \n",
    "        Max_Power.append(max_power.text)\n",
    "    except:\n",
    "        max_power1= driver.find_element(By.XPATH,'//div[@class=\"largeSpec\"])[3]')    \n",
    "        Max_Power.append(max_power1.text)\n",
    "\n",
    "    \n",
    "    \n",
    "    # Extracting Torque\n",
    "    try:\n",
    "        torque = driver.find_element(By.XPATH,'//div[@class=\"fontweight500 value\"])[13]')      \n",
    "        Torque.append(torque.text)\n",
    "    except:\n",
    "        torque1= driver.find_element(By.XPATH,'//div[@class=\"largeSpec\"])[4]')    \n",
    "        Torque.append(torque1.text)\n",
    "\n",
    "    \n",
    "    \n",
    "    # Extracting Seats\n",
    "    try:\n",
    "        seats = driver.find_element(By.XPATH,'//div[text()=\"Seats\"]/following-sibling:: div')      \n",
    "        Seats.append(seats.text)\n",
    "    except NoSuchElementException:\n",
    "        Seats.append('-')\n",
    "\n",
    "    \n",
    "    \n",
    "    # Extracting Color\n",
    "    try:\n",
    "        color = driver.find_element(By.XPATH,'//div[text()=\"Color\"]/following-sibling:: div')      \n",
    "        Color.append(color.text)\n",
    "    except NoSuchElementException:\n",
    "        Color.append('-')\n",
    "\n",
    "   \n",
    "    \n",
    "        # Extracting Gear_Box\n",
    "    try:\n",
    "        gear_Box = driver.find_element(By.XPATH,'//div[text()=\"Gear Box\"]/following-sibling:: div')      \n",
    "        Gear_Box.append(gear_Box.text)\n",
    "    except NoSuchElementException:\n",
    "        Color.append('-')\n",
    "\n",
    "    \n",
    "    \n",
    "        \n",
    "    # Extracting Drive_Type\n",
    "    try:\n",
    "        drive_Type = driver.find_element(By.XPATH,'//div[text()=\"Drive Type\"]/following-sibling:: div')      \n",
    "        Drive_Type.append(drive_Type.text)\n",
    "    except NoSuchElementException:\n",
    "        Drive_Type.append('-')\n",
    "\n",
    "    \n",
    "    \n",
    "        # Extracting Steering_Type\n",
    "    try:\n",
    "        steering_Type = driver.find_element(By.XPATH,'//div[text()=\"Steering Type\"]/following-sibling:: div ')      \n",
    "        Steering_Type.append(steering_Type.text)\n",
    "    except NoSuchElementException:\n",
    "        Steering_Type.append('-')\n",
    "\n",
    "   \n",
    "    \n",
    "        # Extracting Front_Brake_Type\n",
    "    try:\n",
    "        front_Brake_Type = driver.find_element(By.XPATH,'//div[text()=\"Front Brake Type\"]/following-sibling:: div')      \n",
    "        Front_Brake_Type.append(front_Brake_Type.text)\n",
    "    except NoSuchElementException:\n",
    "        Front_Brake_Type.append('-')\n",
    "\n",
    "    \n",
    "    \n",
    "    # Extracting Front_Brake_Type\n",
    "    try:\n",
    "        rear_Brake_Type = driver.find_element(By.XPATH,'//div[text()=\"Rear Brake Type\"]/following-sibling:: div ')      \n",
    "        Rear_Brake_Type.append(rear_Brake_Type.text)\n",
    "    except NoSuchElementException:\n",
    "        Rear_Brake_Type.append('-')\n",
    "\n",
    "    \n",
    "    \n",
    "        # Extracting Front_Brake_Type\n",
    "    try:\n",
    "        acceleration = driver.find_element(By.XPATH,'//div[text()=\"Acceleration\"]/following-sibling:: div')      \n",
    "        Acceleration.append(acceleration.text)\n",
    "    except NoSuchElementException:\n",
    "        Acceleration.append('-')\n",
    "\n",
    "    \n",
    "    \n",
    "        # Extracting Front_Brake_Type\n",
    "    try:\n",
    "        engine_Type = driver.find_element(By.XPATH,'//div[text()=\"Engine Type\"]/following-sibling:: div')      \n",
    "        Engine_Type.append(engine_Type.text)\n",
    "    except NoSuchElementException:\n",
    "        Engine_Type.append('-')"
   ]
  },
  {
   "cell_type": "code",
   "execution_count": 46,
   "id": "bf5e82a9",
   "metadata": {},
   "outputs": [
    {
     "ename": "InvalidArgumentException",
     "evalue": "Message: invalid argument: 'url' must be a string\n  (Session info: chrome=107.0.5304.62)\nStacktrace:\nBacktrace:\n\tOrdinal0 [0x0103ACD3+2075859]\n\tOrdinal0 [0x00FCEE61+1633889]\n\tOrdinal0 [0x00ECB7BD+571325]\n\tOrdinal0 [0x00F2BD46+965958]\n\tOrdinal0 [0x00F1731C+881436]\n\tOrdinal0 [0x00F2B56A+963946]\n\tOrdinal0 [0x00F17136+880950]\n\tOrdinal0 [0x00EEFEFD+720637]\n\tOrdinal0 [0x00EF0F3F+724799]\n\tGetHandleVerifier [0x012EEED2+2769538]\n\tGetHandleVerifier [0x012E0D95+2711877]\n\tGetHandleVerifier [0x010CA03A+521194]\n\tGetHandleVerifier [0x010C8DA0+516432]\n\tOrdinal0 [0x00FD682C+1665068]\n\tOrdinal0 [0x00FDB128+1683752]\n\tOrdinal0 [0x00FDB215+1683989]\n\tOrdinal0 [0x00FE6484+1729668]\n\tBaseThreadInitThunk [0x75A97BA9+25]\n\tRtlInitializeExceptionChain [0x7705BB3B+107]\n\tRtlClearBits [0x7705BABF+191]\n",
     "output_type": "error",
     "traceback": [
      "\u001b[1;31m---------------------------------------------------------------------------\u001b[0m",
      "\u001b[1;31mInvalidArgumentException\u001b[0m                  Traceback (most recent call last)",
      "\u001b[1;32m~\\AppData\\Local\\Temp/ipykernel_15604/261561739.py\u001b[0m in \u001b[0;36m<module>\u001b[1;34m\u001b[0m\n\u001b[0;32m      1\u001b[0m \u001b[1;32mfor\u001b[0m \u001b[0murl_amd\u001b[0m \u001b[1;32min\u001b[0m \u001b[0mCar_urls_amd\u001b[0m\u001b[1;33m:\u001b[0m\u001b[1;33m\u001b[0m\u001b[1;33m\u001b[0m\u001b[0m\n\u001b[1;32m----> 2\u001b[1;33m     \u001b[0mdriver\u001b[0m\u001b[1;33m.\u001b[0m\u001b[0mget\u001b[0m\u001b[1;33m(\u001b[0m\u001b[0murl_amd\u001b[0m\u001b[1;33m)\u001b[0m\u001b[1;33m\u001b[0m\u001b[1;33m\u001b[0m\u001b[0m\n\u001b[0m\u001b[0;32m      3\u001b[0m \u001b[1;33m\u001b[0m\u001b[0m\n\u001b[0;32m      4\u001b[0m \u001b[1;33m\u001b[0m\u001b[0m\n\u001b[0;32m      5\u001b[0m \u001b[1;33m\u001b[0m\u001b[0m\n",
      "\u001b[1;32m~\\anaconda3\\lib\\site-packages\\selenium\\webdriver\\remote\\webdriver.py\u001b[0m in \u001b[0;36mget\u001b[1;34m(self, url)\u001b[0m\n\u001b[0;32m    439\u001b[0m         \u001b[0mLoads\u001b[0m \u001b[0ma\u001b[0m \u001b[0mweb\u001b[0m \u001b[0mpage\u001b[0m \u001b[1;32min\u001b[0m \u001b[0mthe\u001b[0m \u001b[0mcurrent\u001b[0m \u001b[0mbrowser\u001b[0m \u001b[0msession\u001b[0m\u001b[1;33m.\u001b[0m\u001b[1;33m\u001b[0m\u001b[1;33m\u001b[0m\u001b[0m\n\u001b[0;32m    440\u001b[0m         \"\"\"\n\u001b[1;32m--> 441\u001b[1;33m         \u001b[0mself\u001b[0m\u001b[1;33m.\u001b[0m\u001b[0mexecute\u001b[0m\u001b[1;33m(\u001b[0m\u001b[0mCommand\u001b[0m\u001b[1;33m.\u001b[0m\u001b[0mGET\u001b[0m\u001b[1;33m,\u001b[0m \u001b[1;33m{\u001b[0m\u001b[1;34m'url'\u001b[0m\u001b[1;33m:\u001b[0m \u001b[0murl\u001b[0m\u001b[1;33m}\u001b[0m\u001b[1;33m)\u001b[0m\u001b[1;33m\u001b[0m\u001b[1;33m\u001b[0m\u001b[0m\n\u001b[0m\u001b[0;32m    442\u001b[0m \u001b[1;33m\u001b[0m\u001b[0m\n\u001b[0;32m    443\u001b[0m     \u001b[1;33m@\u001b[0m\u001b[0mproperty\u001b[0m\u001b[1;33m\u001b[0m\u001b[1;33m\u001b[0m\u001b[0m\n",
      "\u001b[1;32m~\\anaconda3\\lib\\site-packages\\selenium\\webdriver\\remote\\webdriver.py\u001b[0m in \u001b[0;36mexecute\u001b[1;34m(self, driver_command, params)\u001b[0m\n\u001b[0;32m    427\u001b[0m         \u001b[0mresponse\u001b[0m \u001b[1;33m=\u001b[0m \u001b[0mself\u001b[0m\u001b[1;33m.\u001b[0m\u001b[0mcommand_executor\u001b[0m\u001b[1;33m.\u001b[0m\u001b[0mexecute\u001b[0m\u001b[1;33m(\u001b[0m\u001b[0mdriver_command\u001b[0m\u001b[1;33m,\u001b[0m \u001b[0mparams\u001b[0m\u001b[1;33m)\u001b[0m\u001b[1;33m\u001b[0m\u001b[1;33m\u001b[0m\u001b[0m\n\u001b[0;32m    428\u001b[0m         \u001b[1;32mif\u001b[0m \u001b[0mresponse\u001b[0m\u001b[1;33m:\u001b[0m\u001b[1;33m\u001b[0m\u001b[1;33m\u001b[0m\u001b[0m\n\u001b[1;32m--> 429\u001b[1;33m             \u001b[0mself\u001b[0m\u001b[1;33m.\u001b[0m\u001b[0merror_handler\u001b[0m\u001b[1;33m.\u001b[0m\u001b[0mcheck_response\u001b[0m\u001b[1;33m(\u001b[0m\u001b[0mresponse\u001b[0m\u001b[1;33m)\u001b[0m\u001b[1;33m\u001b[0m\u001b[1;33m\u001b[0m\u001b[0m\n\u001b[0m\u001b[0;32m    430\u001b[0m             response['value'] = self._unwrap_value(\n\u001b[0;32m    431\u001b[0m                 response.get('value', None))\n",
      "\u001b[1;32m~\\anaconda3\\lib\\site-packages\\selenium\\webdriver\\remote\\errorhandler.py\u001b[0m in \u001b[0;36mcheck_response\u001b[1;34m(self, response)\u001b[0m\n\u001b[0;32m    241\u001b[0m                 \u001b[0malert_text\u001b[0m \u001b[1;33m=\u001b[0m \u001b[0mvalue\u001b[0m\u001b[1;33m[\u001b[0m\u001b[1;34m'alert'\u001b[0m\u001b[1;33m]\u001b[0m\u001b[1;33m.\u001b[0m\u001b[0mget\u001b[0m\u001b[1;33m(\u001b[0m\u001b[1;34m'text'\u001b[0m\u001b[1;33m)\u001b[0m\u001b[1;33m\u001b[0m\u001b[1;33m\u001b[0m\u001b[0m\n\u001b[0;32m    242\u001b[0m             \u001b[1;32mraise\u001b[0m \u001b[0mexception_class\u001b[0m\u001b[1;33m(\u001b[0m\u001b[0mmessage\u001b[0m\u001b[1;33m,\u001b[0m \u001b[0mscreen\u001b[0m\u001b[1;33m,\u001b[0m \u001b[0mstacktrace\u001b[0m\u001b[1;33m,\u001b[0m \u001b[0malert_text\u001b[0m\u001b[1;33m)\u001b[0m  \u001b[1;31m# type: ignore[call-arg]  # mypy is not smart enough here\u001b[0m\u001b[1;33m\u001b[0m\u001b[1;33m\u001b[0m\u001b[0m\n\u001b[1;32m--> 243\u001b[1;33m         \u001b[1;32mraise\u001b[0m \u001b[0mexception_class\u001b[0m\u001b[1;33m(\u001b[0m\u001b[0mmessage\u001b[0m\u001b[1;33m,\u001b[0m \u001b[0mscreen\u001b[0m\u001b[1;33m,\u001b[0m \u001b[0mstacktrace\u001b[0m\u001b[1;33m)\u001b[0m\u001b[1;33m\u001b[0m\u001b[1;33m\u001b[0m\u001b[0m\n\u001b[0m",
      "\u001b[1;31mInvalidArgumentException\u001b[0m: Message: invalid argument: 'url' must be a string\n  (Session info: chrome=107.0.5304.62)\nStacktrace:\nBacktrace:\n\tOrdinal0 [0x0103ACD3+2075859]\n\tOrdinal0 [0x00FCEE61+1633889]\n\tOrdinal0 [0x00ECB7BD+571325]\n\tOrdinal0 [0x00F2BD46+965958]\n\tOrdinal0 [0x00F1731C+881436]\n\tOrdinal0 [0x00F2B56A+963946]\n\tOrdinal0 [0x00F17136+880950]\n\tOrdinal0 [0x00EEFEFD+720637]\n\tOrdinal0 [0x00EF0F3F+724799]\n\tGetHandleVerifier [0x012EEED2+2769538]\n\tGetHandleVerifier [0x012E0D95+2711877]\n\tGetHandleVerifier [0x010CA03A+521194]\n\tGetHandleVerifier [0x010C8DA0+516432]\n\tOrdinal0 [0x00FD682C+1665068]\n\tOrdinal0 [0x00FDB128+1683752]\n\tOrdinal0 [0x00FDB215+1683989]\n\tOrdinal0 [0x00FE6484+1729668]\n\tBaseThreadInitThunk [0x75A97BA9+25]\n\tRtlInitializeExceptionChain [0x7705BB3B+107]\n\tRtlClearBits [0x7705BABF+191]\n"
     ]
    }
   ],
   "source": []
  },
  {
   "cell_type": "code",
   "execution_count": 47,
   "id": "18e3e1de",
   "metadata": {},
   "outputs": [],
   "source": [
    "Brand = []"
   ]
  },
  {
   "cell_type": "code",
   "execution_count": 63,
   "id": "b76053ac",
   "metadata": {},
   "outputs": [],
   "source": [
    "\n",
    "    # Extracting Brand from xpath\n",
    "brand = driver.find_elements(By.XPATH,\"//*[@id='vdp-main']/div/div/div[1]/div[2]/div[1]/div[2]/div[1]\")\n",
    "for i in brand:Brand.append(i.text)\n"
   ]
  },
  {
   "cell_type": "code",
   "execution_count": 65,
   "id": "afa71eaf",
   "metadata": {},
   "outputs": [
    {
     "data": {
      "text/plain": [
       "[]"
      ]
     },
     "execution_count": 65,
     "metadata": {},
     "output_type": "execute_result"
    }
   ],
   "source": []
  },
  {
   "cell_type": "code",
   "execution_count": null,
   "id": "1387fc10",
   "metadata": {},
   "outputs": [],
   "source": []
  },
  {
   "cell_type": "code",
   "execution_count": null,
   "id": "cc16b0e3",
   "metadata": {},
   "outputs": [],
   "source": []
  },
  {
   "cell_type": "code",
   "execution_count": null,
   "id": "6313a09b",
   "metadata": {},
   "outputs": [],
   "source": []
  },
  {
   "cell_type": "code",
   "execution_count": 54,
   "id": "8a34ab76",
   "metadata": {},
   "outputs": [],
   "source": [
    "# Making dataFrame for Ahmdabad cars\n",
    "Ahmedabad=pd.DataFrame({})\n",
    "Ahmedabad ['Brand']= Brand[:450]\n",
    "\n",
    "Ahmedabad ['Make_Year']= Make_Year[:450]\n",
    "Ahmedabad ['Fuel']=Fuel [:450]\n",
    "Ahmedabad ['KMs_Driven']= KMs_Driven [:450]\n",
    "Ahmedabad ['Engine_Displacement']= Engine_Displacement [:450]\n",
    "Ahmedabad ['No_Of_Owner']= No_Of_Owner [:450]\n",
    "Ahmedabad ['Transmission']= Transmission [:450]\n",
    "Ahmedabad ['Mileage']= Mileage [:450]\n",
    "Ahmedabad ['Max_Power']= Max_Power [:450]\n",
    "Ahmedabad ['Torque']= Torque [:450]\n",
    "\n",
    "Ahmedabad ['Seats']= Seats [:450]\n",
    "Ahmedabad ['Color']= Color [:450]\n",
    "Ahmedabad ['Gear_Box']= Gear_Box [:450]\n",
    "Ahmedabad ['Drive_Type']= Drive_Type [:450]\n",
    "Ahmedabad ['Steering_Type']= Steering_Type [:450]\n",
    "Ahmedabad ['Front_Brake_Type']= Front_Brake_Type [:450]\n",
    "Ahmedabad ['Rear_Brake_Type']= Rear_Brake_Type [:450]\n",
    "\n",
    "Ahmedabad ['Acceleration']= Acceleration [:450]\n",
    "Ahmedabad ['Engine_Type']= Engine_Type [:450]\n",
    "Ahmedabad ['Price']= Price [:450]"
   ]
  },
  {
   "cell_type": "code",
   "execution_count": 55,
   "id": "0d2d2f82",
   "metadata": {},
   "outputs": [],
   "source": [
    "data1= Ahmedabad.copy()"
   ]
  },
  {
   "cell_type": "code",
   "execution_count": 56,
   "id": "327aeed4",
   "metadata": {},
   "outputs": [
    {
     "data": {
      "text/html": [
       "<div>\n",
       "<style scoped>\n",
       "    .dataframe tbody tr th:only-of-type {\n",
       "        vertical-align: middle;\n",
       "    }\n",
       "\n",
       "    .dataframe tbody tr th {\n",
       "        vertical-align: top;\n",
       "    }\n",
       "\n",
       "    .dataframe thead th {\n",
       "        text-align: right;\n",
       "    }\n",
       "</style>\n",
       "<table border=\"1\" class=\"dataframe\">\n",
       "  <thead>\n",
       "    <tr style=\"text-align: right;\">\n",
       "      <th></th>\n",
       "      <th>Brand</th>\n",
       "      <th>Make_Year</th>\n",
       "      <th>Fuel</th>\n",
       "      <th>KMs_Driven</th>\n",
       "      <th>Engine_Displacement</th>\n",
       "      <th>No_Of_Owner</th>\n",
       "      <th>Transmission</th>\n",
       "      <th>Mileage</th>\n",
       "      <th>Max_Power</th>\n",
       "      <th>Torque</th>\n",
       "      <th>Seats</th>\n",
       "      <th>Color</th>\n",
       "      <th>Gear_Box</th>\n",
       "      <th>Drive_Type</th>\n",
       "      <th>Steering_Type</th>\n",
       "      <th>Front_Brake_Type</th>\n",
       "      <th>Rear_Brake_Type</th>\n",
       "      <th>Acceleration</th>\n",
       "      <th>Engine_Type</th>\n",
       "      <th>Price</th>\n",
       "    </tr>\n",
       "  </thead>\n",
       "  <tbody>\n",
       "  </tbody>\n",
       "</table>\n",
       "</div>"
      ],
      "text/plain": [
       "Empty DataFrame\n",
       "Columns: [Brand, Make_Year, Fuel, KMs_Driven, Engine_Displacement, No_Of_Owner, Transmission, Mileage, Max_Power, Torque, Seats, Color, Gear_Box, Drive_Type, Steering_Type, Front_Brake_Type, Rear_Brake_Type, Acceleration, Engine_Type, Price]\n",
       "Index: []"
      ]
     },
     "execution_count": 56,
     "metadata": {},
     "output_type": "execute_result"
    }
   ],
   "source": [
    "data1"
   ]
  },
  {
   "cell_type": "code",
   "execution_count": null,
   "id": "ed679a0d",
   "metadata": {},
   "outputs": [],
   "source": []
  },
  {
   "cell_type": "code",
   "execution_count": null,
   "id": "3556b281",
   "metadata": {},
   "outputs": [],
   "source": []
  }
 ],
 "metadata": {
  "kernelspec": {
   "display_name": "Python 3 (ipykernel)",
   "language": "python",
   "name": "python3"
  },
  "language_info": {
   "codemirror_mode": {
    "name": "ipython",
    "version": 3
   },
   "file_extension": ".py",
   "mimetype": "text/x-python",
   "name": "python",
   "nbconvert_exporter": "python",
   "pygments_lexer": "ipython3",
   "version": "3.9.7"
  }
 },
 "nbformat": 4,
 "nbformat_minor": 5
}
